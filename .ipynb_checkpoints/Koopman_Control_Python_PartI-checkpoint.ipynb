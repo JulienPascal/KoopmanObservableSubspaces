{
 "cells": [
  {
   "cell_type": "markdown",
   "metadata": {},
   "source": [
    "# The linear–quadratic regulator Part I"
   ]
  },
  {
   "cell_type": "markdown",
   "metadata": {},
   "source": [
    "The two main goals of this notebook is give an introduction to the linear–quadratic regulator (LQR) framework and to show how to start solving LQR problems in Python. The LQR is concerned with operating a dynamic system (a rocket, a car, the economy, etc.) at minimum cost. \n",
    "\n",
    "#### In this notebook, you will learn\n",
    "\n",
    "* what the LQR framework is\n",
    "* how to simulate forward an ordinary differential equation using [scipy](https://docs.scipy.org/doc/scipy/reference/generated/scipy.integrate.ode.html)\n",
    "* how to solve for the optimal control using the [Python Control Systems Library](https://python-control.readthedocs.io/en/0.8.3/)\n",
    "\n",
    "#### Acknowledgements\n",
    "\n",
    "* The linear system studied in this notebook is based on the [paper](https://arxiv.org/abs/1510.03007): Brunton, Steven L., et al. \"Koopman invariant subspaces and finite linear representations of nonlinear dynamical systems for control.\" PloS one 11.2 (2016). For details and more references, I strongly invite you to read it.\n",
    "\n",
    "\n",
    "## I. LQR control in a nutshell\n",
    "\n",
    "Many natural phenomena naturally lead to differential equations. A differential equation is an equation in which the rate of the change of a variable ($\\frac{d}{dt} x$) is a function its state $x$. The unknown is a function satisfying both the differential equation and an initial value. For instance, a simple model of the spread of the Covid-19 can be written as a system of differential equations (see for instance the [SIR model](https://en.wikipedia.org/wiki/Compartmental_models_in_epidemiology)):\n",
    "\n",
    "$$ \\frac{d}{dt} x = f(x,t) $$\n",
    "\n",
    "Actually, the LQR theory studies a special case of the above problem. It focuses on problems where the function $f(x,t)$ is linear:\n",
    "\n",
    "$$ \\frac{d}{dt} x = A  x $$\n",
    "\n",
    "The equation above is a \"passive\" one. We simply observe the trajectory of x and there is nothing we can do about it. The LQR framework is based on the idea that an observer may want to change the trajectory of the system by exerting a control on $x$. In the case of the spread of the Covid-19, the government may want to limit the number of new cases. When considering the economy, a central bank may want to control the interest rate to reach its inflation target. In the case of the SpaceX, the engineers may want to stabilize the rocket so that it does not explode when trying to land back to Earth. \n",
    "\n",
    "![](spaceX.gif)\n",
    "\n",
    "In the LQR framework, the controller wants to stabilize the system to reach one of its steady-state values, defined by:\n",
    "\n",
    "$$ x_{ss} = A x_{ss} $$\n",
    "\n",
    "We need to take into consideration the impact that the controller has on the system. Let us add the control, denoted by $u$, to the uncontrolled system from above:\n",
    "\n",
    "$$ \\frac{d}{dt} x = A  x + B  u $$\n",
    "\n",
    "where $B$ is a matrix capturing the idea that the controller could only control some elements of $x$. \n",
    "\n",
    "However, there is no free lunch. In order to stabilize the system, the controller needs to pay a cost. Going back to our rocket example, some fuel needs to be burnt in order to stabilize the trajectory of the rocket. The LQR is based on a cost function that is quadratic. This quadratic assumption simplifies the algebra substantially and captures the intuitive idea that doubling the effort actually costs four times more, not two times more. "
   ]
  },
  {
   "cell_type": "markdown",
   "metadata": {},
   "source": [
    "Let us assume that the steady state of the system is $\\boldsymbol{0}$. This is without loss of generality, because we can rewrite the system as a deviation from its steady-state value $\\tilde{x} \\equiv x - x_{ss}$, in which case the steady-state is reached for  $\\tilde{x} = \\boldsymbol{0}$. \n",
    "\n",
    "\n",
    "To capture the cost of stabilizing the system, let us use the letter $J$. $J$ captures two types of cost. Firstly, the controller dislikes when the system is not at its steady-state. In the equation below, this type of cost is captured by the matrix $Q$. Secondly, the controller dislikes spending energy to control the system. This second type of cost is captured by the matrix $R$:\n",
    "\n",
    "$$ J = \\int_{0}^{\\infty} x'(t) Q x(t) + u'(t) R u(t) dt $$  "
   ]
  },
  {
   "cell_type": "markdown",
   "metadata": {},
   "source": [
    "A beautiful result from the LQR theory is that the optimal control from the controller is simply a linear function of the current state of the system:\n",
    "\n",
    "$$ u = - C x$$ \n"
   ]
  },
  {
   "cell_type": "markdown",
   "metadata": {},
   "source": [
    "When the system is controlled optimally, the equation governing the evolution of the system writes:\n",
    "    \n",
    "$$ \\frac{d}{dt} x = A x - B  C x $$"
   ]
  },
  {
   "cell_type": "markdown",
   "metadata": {},
   "source": [
    "## II. Simulating forward an ordinary differential equation in Python"
   ]
  },
  {
   "cell_type": "markdown",
   "metadata": {},
   "source": [
    "Having summarized what the LQR framework is, we can now give an illustration of how it works using a simple example using Python. For what follows, you will need the following packages:"
   ]
  },
  {
   "cell_type": "code",
   "execution_count": 1,
   "metadata": {},
   "outputs": [
    {
     "name": "stdout",
     "output_type": "stream",
     "text": [
      "Python 3.5.2\r\n"
     ]
    }
   ],
   "source": [
    "import os\n",
    "import matplotlib.pyplot as plt \n",
    "plt.style.use('ggplot')\n",
    "%matplotlib inline\n",
    "import numpy as np\n",
    "from control.matlab import *  # MATLAB-like functions \n",
    "#to solve ODE\n",
    "from scipy import integrate\n",
    "#show the version of Python I am using:\n",
    "!python3 --version"
   ]
  },
  {
   "cell_type": "markdown",
   "metadata": {},
   "source": [
    "Let's study optimal control for the following differential equation:"
   ]
  },
  {
   "cell_type": "markdown",
   "metadata": {},
   "source": [
    "$$ \\begin{cases} \\frac{d}{dt} x = \\mu x \\\\ \\frac{d}{dt} y = \\lambda (y - x^2)  \\end{cases} $$ "
   ]
  },
  {
   "cell_type": "markdown",
   "metadata": {},
   "source": [
    "Two observations on this dynamical system. Firstly, the system is not linear, but we will see how to deal with that in a minute. Secondly, by eyeballing the equation, it is easy to see that when $\\mu < 1$ and $\\lambda < 1$, the unique fixed point is\n",
    "\n",
    "$$ \n",
    "\\begin{pmatrix} x_{SS} \\\\ y_{SS} \\end{pmatrix} = \\begin{pmatrix} 0 \\\\ 0 \\end{pmatrix} \n",
    "$$ \n",
    "\n"
   ]
  },
  {
   "cell_type": "markdown",
   "metadata": {},
   "source": [
    "We can convince ourselves by simulating forward the trajectory of the system using different starting values."
   ]
  },
  {
   "cell_type": "markdown",
   "metadata": {},
   "source": [
    "Let's notice that the system can be written as a linear one, plus a part that is nonlinear: \n",
    "\n",
    "$$ \n",
    "\\frac{d}{dt} \\begin{pmatrix} x \\\\ y \\end{pmatrix} = \\begin{pmatrix} \\mu & 0 \\\\ 0 & \\lambda \\end{pmatrix} \\begin{pmatrix} x \\\\ y \\end{pmatrix} +  \\begin{pmatrix} O \\\\ -  \\lambda x^2 \\end{pmatrix} \n",
    "$$ \n",
    "\n",
    "$$ \n",
    "\\frac{d}{dt} \\begin{pmatrix} x \\\\ y \\end{pmatrix} = A \\begin{pmatrix} x \\\\ y \\end{pmatrix} +  \\begin{pmatrix} O \\\\ -  \\lambda x^2 \\end{pmatrix} \n",
    "$$ \n",
    "\n",
    "\n"
   ]
  },
  {
   "cell_type": "markdown",
   "metadata": {},
   "source": [
    "The following block of code defines the parameter values, the matrix A for the linear part of the differential equation and the matrix B specifying that the controller can only act on x. We also specify the time span during which we want to simulate forward the trajectories:"
   ]
  },
  {
   "cell_type": "code",
   "execution_count": 107,
   "metadata": {},
   "outputs": [],
   "source": [
    "# Parameters and matrices A and B:\n",
    "mu = -0.05\n",
    "llambda = -1.0\n",
    "A = np.array([[mu, 0], [0, llambda]])\n",
    "B = np.array([[0], [1]])\n",
    "# Time span\n",
    "t0, t1 = 0, 100 # start and end\n",
    "t = np.arange(t0, t1, 0.01)"
   ]
  },
  {
   "cell_type": "markdown",
   "metadata": {},
   "source": [
    "A clean way to simulate forward the trajectory is to define a function that return the evolution of the system:"
   ]
  },
  {
   "cell_type": "code",
   "execution_count": 136,
   "metadata": {},
   "outputs": [],
   "source": [
    "# Function that defines the dynamic system:\n",
    "def vdp0(t, y):\n",
    "    # linear part + nonlinear part:\n",
    "    x = A.dot(y) + np.array([0, -llambda*(y[0]**2)])\n",
    "    return x "
   ]
  },
  {
   "cell_type": "markdown",
   "metadata": {},
   "source": [
    "We then define 4 different starting values and simulate forward the system using the `scipy.integrate` toolkit:"
   ]
  },
  {
   "cell_type": "code",
   "execution_count": 123,
   "metadata": {
    "scrolled": true
   },
   "outputs": [],
   "source": [
    "# Set of starting values:\n",
    "y0A = np.array([1.5, -1])\n",
    "y0B = np.array([-1.5, -1])\n",
    "y0C = np.array([5, 5])\n",
    "y0D = np.array([-5, 5])\n",
    "\n",
    "# To store the different trajectories\n",
    "list_y = []\n",
    "\n",
    "# Method for the ODE:\n",
    "# This is an explicit runge-kutta method of order (4)5 due to Dormand & Prince\n",
    "integrator = \"dopri5\"\n",
    "\n",
    "# Loop over the different starting values and calculate trajectories:\n",
    "for y0 in [y0A, y0B, y0C,y0D]:\n",
    "    # initialize an array to store the solution\n",
    "    y = np.zeros((len(t), len(y0)))   # array for solution\n",
    "    r0 = integrate.ode(vdp0).set_integrator(integrator) \n",
    "    r0.set_initial_value(y0, t0)   # initial values\n",
    "    for i in range(1, t.size):\n",
    "       y[i, :] = r0.integrate(t[i]) # get one more value, add it to the array\n",
    "       if not r0.successful():\n",
    "           raise RuntimeError(\"Could not integrate\")\n",
    "    # append the list of solution\n",
    "    list_y.append(y)"
   ]
  },
  {
   "cell_type": "markdown",
   "metadata": {},
   "source": [
    "We can then plot the trajectories we just calculated on a same graph using `matplotlib`:"
   ]
  },
  {
   "cell_type": "code",
   "execution_count": 124,
   "metadata": {
    "scrolled": true
   },
   "outputs": [
    {
     "data": {
      "image/png": "[encoded data removed]",
      "text/plain": [
       "<Figure size 720x360 with 1 Axes>"
      ]
     },
     "metadata": {
      "needs_background": "light"
     },
     "output_type": "display_data"
    }
   ],
   "source": [
    "# Plot the different paths:\n",
    "fig, ax = plt.subplots(figsize=(10, 5))\n",
    "\n",
    "for index,y0 in enumerate([y0A, y0B, y0C, y0D]):\n",
    "    ax.plot(list_y[index][1:-1, 0], list_y[index][1:-1, 1], label = str(y0))\n",
    "    plt.xlabel(\"x\")\n",
    "    plt.ylabel(\"y\")\n",
    "plt.title(\"Trajectories for different starting values\")\n",
    "plt.legend()\n",
    "plt.show()"
   ]
  },
  {
   "cell_type": "markdown",
   "metadata": {},
   "source": [
    "From the graph, we see that $y$ moves very quickly to the parabola defined by $y = x^2$. Then, the system slowly converges\n",
    "towards $(0,0)$, moving along the same parabola."
   ]
  },
  {
   "cell_type": "markdown",
   "metadata": {},
   "source": [
    "Before moving to the optimal control of the system, let us calculate the total cost $J$ of letting the system \n",
    "converging naturally to its steady state value:"
   ]
  },
  {
   "cell_type": "code",
   "execution_count": 125,
   "metadata": {},
   "outputs": [],
   "source": [
    "# Store the cost associated with each starting value:\n",
    "list_cost = []\n",
    "for y in list_y:\n",
    "    JLQR = np.cumsum( np.square(y[:, 0]) + np.square(y[:, 1]) )\n",
    "    # append the list of solution\n",
    "    list_cost.append(JLQR)"
   ]
  },
  {
   "cell_type": "markdown",
   "metadata": {},
   "source": [
    "The next plot shows the cumulative cost as time passes. The further away the starting value is from the steady-state, the higher the cost. We also see that because the cost function treats negative and positive deviations from the steady state the same way (because deviations are squared), the cost for the starting values (1.5, -1) and (-1.5, -1) are the same. The same observation holds for (5, 5) and (-5, 5)."
   ]
  },
  {
   "cell_type": "code",
   "execution_count": 126,
   "metadata": {},
   "outputs": [
    {
     "data": {
      "image/png": "[encoded data removed]",
      "text/plain": [
       "<Figure size 720x360 with 1 Axes>"
      ]
     },
     "metadata": {
      "needs_background": "light"
     },
     "output_type": "display_data"
    }
   ],
   "source": [
    "# Plot the cost associated with each starting value:\n",
    "fig, ax = plt.subplots(figsize=(10, 5))\n",
    "for JLQR, y0 in zip(list_cost,[y0A, y0B, y0C, y0D]):\n",
    "    plt.plot(t, JLQR, label = str(y0))\n",
    "    plt.xlabel(\"t\")\n",
    "    plt.ylabel(\"JLQR\")\n",
    "plt.legend()\n",
    "plt.show()"
   ]
  },
  {
   "cell_type": "markdown",
   "metadata": {},
   "source": [
    "## III. Solving for the optimal control "
   ]
  },
  {
   "cell_type": "markdown",
   "metadata": {},
   "source": [
    "Let's first define the matrices Q and R, before solving for the optimal control matrix $C$ using the `lqr` function from the [Python Control Systems Library](https://python-control.readthedocs.io/en/0.8.3/)"
   ]
  },
  {
   "cell_type": "code",
   "execution_count": 127,
   "metadata": {},
   "outputs": [
    {
     "name": "stdout",
     "output_type": "stream",
     "text": [
      "Feedback matrix C : [[0.         0.41421356]]\n"
     ]
    }
   ],
   "source": [
    "R = np.array([1])\n",
    "Q = np.eye(2)\n",
    "# Solve for C:\n",
    "(C, X, E) = lqr(A, B, Q, R)\n",
    "print(\"Feedback matrix C : {}\".format(C))"
   ]
  },
  {
   "cell_type": "markdown",
   "metadata": {},
   "source": [
    "We can now proceed as previously to simulate forward the differential equation. The only difference is that \n",
    "now we have to take into account the optimal control applied each period on the system. The optimal control is\n",
    "taken into consideration in the function `vdp1(t, y)`:"
   ]
  },
  {
   "cell_type": "code",
   "execution_count": 128,
   "metadata": {},
   "outputs": [],
   "source": [
    "def vdp1(t, y):\n",
    "    # Ay - B*X*y + Cy\n",
    "    x = A.dot(y)  - np.matmul(B,C).dot(y)\n",
    "    return x + np.array([0, -llambda*(y[0]**2)])\n",
    "\n",
    "y0 = [-5, 5]                   # initial value\n",
    "y = np.zeros((len(t), len(y0))) # array for solution\n",
    "y[0, :] = y0\n",
    "\n",
    "r = integrate.ode(vdp1).set_integrator(integrator)\n",
    "r.set_initial_value(y0, t0)   # initial values\n",
    "\n",
    "for i in range(1, t.size):\n",
    "   y[i, :] = r.integrate(t[i]) # get one more value, add it to the array\n",
    "   if not r.successful():\n",
    "       raise RuntimeError(\"Could not integrate\")"
   ]
  },
  {
   "cell_type": "markdown",
   "metadata": {},
   "source": [
    "We can now compare the controlled trajectory (in red) to the uncontrolled trajectory:"
   ]
  },
  {
   "cell_type": "code",
   "execution_count": 132,
   "metadata": {},
   "outputs": [
    {
     "data": {
      "image/png": "[encoded data removed]",
      "text/plain": [
       "<Figure size 720x360 with 1 Axes>"
      ]
     },
     "metadata": {
      "needs_background": "light"
     },
     "output_type": "display_data"
    }
   ],
   "source": [
    "fig, ax = plt.subplots(figsize=(10, 5))\n",
    "plt.plot(y[:, 0], y[:, 1], label = \"controlled\")\n",
    "plt.plot(list_y[index][1:-1, 0], list_y[index][1:-1, 1], label = \"uncontrolled\")\n",
    "plt.xlabel(\"x\")\n",
    "plt.ylabel(\"y\")\n",
    "plt.legend()\n",
    "plt.show()"
   ]
  },
  {
   "cell_type": "markdown",
   "metadata": {},
   "source": [
    "With the controlled trajectory, the deviation of $y$ from its steady state value is less extreme. The system converges to $(0,0)$ on a different parabola. As expected, controlling the system with the optimal controller is less costly than letting the system evolve naturally by itself:"
   ]
  },
  {
   "cell_type": "code",
   "execution_count": 133,
   "metadata": {
    "scrolled": false
   },
   "outputs": [
    {
     "data": {
      "image/png": "[encoded data removed]",
      "text/plain": [
       "<Figure size 720x360 with 1 Axes>"
      ]
     },
     "metadata": {
      "needs_background": "light"
     },
     "output_type": "display_data"
    }
   ],
   "source": [
    "JLQR = np.cumsum( np.square(y[:, 0]) + np.square(y[:, 1]) + np.square(np.matmul(C, y.T)) ).T\n",
    "\n",
    "fig, ax = plt.subplots(figsize=(10, 5))\n",
    "plt.plot(t, JLQR, label = \"controlled\")\n",
    "plt.plot(t, list_cost[3], label = \"uncontrolled\")\n",
    "plt.xlabel(\"t\")\n",
    "plt.ylabel(\"JLQR\")\n",
    "plt.legend()\n",
    "plt.show()"
   ]
  },
  {
   "cell_type": "markdown",
   "metadata": {},
   "source": [
    "## IV. What about $-\\lambda x^2$? Linearizing the nonlinear system"
   ]
  },
  {
   "cell_type": "markdown",
   "metadata": {},
   "source": [
    "$$ \n",
    "\\frac{d}{dt} \\begin{pmatrix} x \\\\ y \\end{pmatrix} = \\begin{pmatrix} \\mu & 0 \\\\ 0 & \\lambda \\end{pmatrix} \\begin{pmatrix} x \\\\ y \\end{pmatrix} +  \\begin{pmatrix} O \\\\ -  \\lambda x^2 \\end{pmatrix} \n",
    "$$ "
   ]
  },
  {
   "cell_type": "markdown",
   "metadata": {},
   "source": [
    "A careful reader would have noticed that we used a linear controller on a non-linear system. Is it legitimate? Intuitively, we ignored the term $-\\lambda x^2$, which is small when $x < 1$ and/or when $\\lambda$ is small. We can show more \"rigorously\" that what we did makes sense."
   ]
  },
  {
   "cell_type": "markdown",
   "metadata": {},
   "source": [
    "Let us remember that the dynamical system is:"
   ]
  },
  {
   "cell_type": "markdown",
   "metadata": {},
   "source": [
    "$$ \n",
    "\\frac{d}{dt} \\begin{pmatrix} x \\\\ y \\end{pmatrix} = f \\Big(  \\begin{pmatrix} x \\\\ y \\end{pmatrix}, t \\Big) \n",
    "$$ "
   ]
  },
  {
   "cell_type": "markdown",
   "metadata": {},
   "source": [
    "Or more precisely:"
   ]
  },
  {
   "cell_type": "markdown",
   "metadata": {},
   "source": [
    "$$ \\begin{cases} \\frac{d}{dt} x = \\mu x \\\\ \\frac{d}{dt} y = \\lambda (y - x^2)  \\end{cases} $$  "
   ]
  },
  {
   "cell_type": "markdown",
   "metadata": {},
   "source": [
    "A first order Taylor expansion around the steady-state gives us:\n",
    "    \n",
    "$$ x -x_{ss} \\approx A (x -x_{ss}) $$"
   ]
  },
  {
   "cell_type": "markdown",
   "metadata": {},
   "source": [
    "Where $A$ is the Jacobian matrix (matrix of first derivatives) evaluated at the steady-state value, which is (0,0) in our simple example. The first derivatives are:"
   ]
  },
  {
   "cell_type": "markdown",
   "metadata": {},
   "source": [
    "$$ \n",
    "\\frac{d}{dx}(\\frac{d}{dt}x) = \\mu  \\\\\n",
    "\\frac{d}{dy}(\\frac{d}{dt}x) = 0 \\\\\n",
    "\\frac{d}{dx}(\\frac{d}{dt}y) = \\lambda \\\\\n",
    "\\frac{d}{dy}(\\frac{d}{dt}y)= -2 \\lambda x\n",
    "$$ "
   ]
  },
  {
   "cell_type": "markdown",
   "metadata": {},
   "source": [
    "Evaluated at the steady-state, the matrix A is equal to:\n",
    "    \n",
    "$$ A = \\begin{pmatrix} \\mu & 0 \\\\ -2 \\lambda \\times 0 & \\lambda \\end{pmatrix} = \\begin{pmatrix} \\mu & 0 \\\\ 0 & \\lambda \\end{pmatrix} $$ \n",
    "    \n",
    "and because the steady-state is $(0,0)$, we have $\\tilde{x} = x$. The take-away is that in the neighborhood of the steady-state $(0,0)$, we can solve the LQR ignoring the $-\\lambda x^2$ term."
   ]
  },
  {
   "cell_type": "markdown",
   "metadata": {},
   "source": [
    "## Conclusion"
   ]
  },
  {
   "cell_type": "markdown",
   "metadata": {},
   "source": [
    "This notebook introduced what the LQR framework and showed how to solve for the optimal control in Python. We saw that even though the example we studied is not linear, we can ignore the second order term if we are\n",
    "close to the stead-state. In the Part II of this series on the LQR framework, we will see that we can do even better by solving the dynamical system in a new space, in which the system is exactly linear."
   ]
  },
  {
   "cell_type": "markdown",
   "metadata": {},
   "source": [
    "## References \n",
    "\n",
    "* The linear system studied in this notebook is based on the paper: Brunton, Steven L., et al. \"Koopman invariant subspaces and finite linear representations of nonlinear dynamical systems for control.\" PloS one 11.2 (2016)."
   ]
  }
 ],
 "metadata": {
  "kernelspec": {
   "display_name": "Python 3",
   "language": "python",
   "name": "python3"
  },
  "language_info": {
   "codemirror_mode": {
    "name": "ipython",
    "version": 3
   },
   "file_extension": ".py",
   "mimetype": "text/x-python",
   "name": "python",
   "nbconvert_exporter": "python",
   "pygments_lexer": "ipython3",
   "version": "3.5.2"
  }
 },
 "nbformat": 4,
 "nbformat_minor": 2
}
