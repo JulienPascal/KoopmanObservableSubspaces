{
 "cells": [
  {
   "cell_type": "markdown",
   "metadata": {},
   "source": [
    "# Koopman control"
   ]
  },
  {
   "cell_type": "markdown",
   "metadata": {},
   "source": [
    "Based on the paper \"Koopman Invariant Subspaces and Finite Linear Representations of Nonlinear Dynamical Systems for Control\"."
   ]
  },
  {
   "cell_type": "markdown",
   "metadata": {},
   "source": [
    "This notebook:\n",
    "\n",
    "#### Part I\n",
    "* simulates forward the trajectories\n",
    "* solve the lqr control problem\n",
    "* compare the controled and uncontrolled trajectories\n",
    "\n",
    "#### Part II\n",
    "* express the problem in the \"Koopman space\" (TODO)\n",
    "* solve the control problem in the \"Koopman space\" (TODO)\n",
    "* compare the controled and Koopman-controlled trajectories (TODO)"
   ]
  },
  {
   "cell_type": "markdown",
   "metadata": {},
   "source": [
    "## Dependencies"
   ]
  },
  {
   "cell_type": "markdown",
   "metadata": {},
   "source": [
    "Notebook using Python 3:"
   ]
  },
  {
   "cell_type": "code",
   "execution_count": 234,
   "metadata": {
    "scrolled": true
   },
   "outputs": [
    {
     "name": "stdout",
     "output_type": "stream",
     "text": [
      "Python 3.5.2\r\n"
     ]
    }
   ],
   "source": [
    "!python3 --version"
   ]
  },
  {
   "cell_type": "markdown",
   "metadata": {},
   "source": [
    "The following packages are needed:"
   ]
  },
  {
   "cell_type": "code",
   "execution_count": 236,
   "metadata": {},
   "outputs": [],
   "source": [
    "import os\n",
    "import matplotlib.pyplot as plt \n",
    "plt.style.use('ggplot')\n",
    "import numpy as np\n",
    "%matplotlib inline\n",
    "#import control\n",
    "from control.matlab import *  # MATLAB-like functions \n",
    "#to solve ODE\n",
    "from scipy import integrate"
   ]
  },
  {
   "cell_type": "markdown",
   "metadata": {},
   "source": [
    "## Description of the problem"
   ]
  },
  {
   "cell_type": "markdown",
   "metadata": {},
   "source": [
    "### Parameter values"
   ]
  },
  {
   "cell_type": "code",
   "execution_count": 89,
   "metadata": {},
   "outputs": [],
   "source": [
    "mu = -0.05\n",
    "llambda = -1.0"
   ]
  },
  {
   "cell_type": "code",
   "execution_count": 90,
   "metadata": {},
   "outputs": [],
   "source": [
    "A = np.array([[mu, 0], [0, llambda]])\n",
    "B = np.array([[0], [1]])"
   ]
  },
  {
   "cell_type": "markdown",
   "metadata": {},
   "source": [
    "#### Starting values:"
   ]
  },
  {
   "cell_type": "code",
   "execution_count": 91,
   "metadata": {},
   "outputs": [],
   "source": [
    "x0 = np.array([[-5], [5]])"
   ]
  },
  {
   "cell_type": "markdown",
   "metadata": {},
   "source": [
    "#### Time span"
   ]
  },
  {
   "cell_type": "code",
   "execution_count": 92,
   "metadata": {},
   "outputs": [],
   "source": [
    "t0, t1 = 0, 100 # start and end\n",
    "t = np.arange(t0, t1, 0.01)"
   ]
  },
  {
   "cell_type": "markdown",
   "metadata": {},
   "source": [
    "## Simulating forward the ODE"
   ]
  },
  {
   "cell_type": "code",
   "execution_count": 237,
   "metadata": {},
   "outputs": [],
   "source": [
    "# Function that defines the dynamic system:\n",
    "def vdp0(t, y):\n",
    "    x = A.dot(y) + np.array([0, -llambda*(y[0]**2)])\n",
    "    return x "
   ]
  },
  {
   "cell_type": "code",
   "execution_count": 238,
   "metadata": {
    "scrolled": true
   },
   "outputs": [],
   "source": [
    "#Set of starting values:\n",
    "y0A = np.array([1.5, -1])\n",
    "y0B = np.array([-1.5, -1])\n",
    "y0C = np.array([2, 2])\n",
    "y0D = np.array([-5, 5])\n",
    "\n",
    "# To store the different trajectories\n",
    "list_y = []\n",
    "\n",
    "\n",
    "\n",
    "# Loop over the different starting values and calculate trajectories:\n",
    "for y0 in [y0A, y0B, y0C,y0D]:\n",
    "    # initialize an array to store the solution\n",
    "    y = np.zeros((len(t), len(y0)))   # array for solution\n",
    "    r0 = integrate.ode(vdp0).set_integrator(\"dopri5\")  # choice of method\n",
    "    r0.set_initial_value(y0, t0)   # initial values\n",
    "    for i in range(1, t.size):\n",
    "       y[i, :] = r0.integrate(t[i]) # get one more value, add it to the array\n",
    "       if not r0.successful():\n",
    "           raise RuntimeError(\"Could not integrate\")\n",
    "    # append the list of solution\n",
    "    list_y.append(y)"
   ]
  },
  {
   "cell_type": "code",
   "execution_count": 239,
   "metadata": {
    "scrolled": true
   },
   "outputs": [
    {
     "data": {
      "image/png": "[encoded data removed]",
      "text/plain": [
       "<Figure size 432x288 with 1 Axes>"
      ]
     },
     "metadata": {
      "needs_background": "light"
     },
     "output_type": "display_data"
    }
   ],
   "source": [
    "# Plot the different paths:\n",
    "for index,y0 in enumerate([y0A, y0B, y0C, y0D]):\n",
    "    plt.plot(list_y[index][1:-1, 0], list_y[index][1:-1, 1], label = str(y0))\n",
    "    plt.xlabel(\"x\")\n",
    "    plt.ylabel(\"y\")\n",
    "plt.legend()\n",
    "plt.show()"
   ]
  },
  {
   "cell_type": "markdown",
   "metadata": {},
   "source": [
    "#### Plotting the costs"
   ]
  },
  {
   "cell_type": "code",
   "execution_count": 149,
   "metadata": {},
   "outputs": [],
   "source": [
    "# Store the cost associated with each starting value:\n",
    "list_cost = []\n",
    "for y in list_y:\n",
    "    JLQR = np.cumsum( np.square(y[:, 0]) + np.square(y[:, 1]) + np.square(np.matmul(C, y.T)) ).T\n",
    "    # append the list of solution\n",
    "    list_cost.append(JLQR)"
   ]
  },
  {
   "cell_type": "code",
   "execution_count": 150,
   "metadata": {},
   "outputs": [
    {
     "data": {
      "image/png": "[encoded data removed]",
      "text/plain": [
       "<Figure size 432x288 with 1 Axes>"
      ]
     },
     "metadata": {
      "needs_background": "light"
     },
     "output_type": "display_data"
    }
   ],
   "source": [
    "# Plot the cost associated with each starting value:\n",
    "for JLQR, y0 in zip(list_cost,[y0A, y0B, y0C, y0D]):\n",
    "    plt.plot(t, JLQR, label = str(y0))\n",
    "    plt.xlabel(\"t\")\n",
    "    plt.ylabel(\"JLQR\")\n",
    "plt.legend()\n",
    "plt.show()"
   ]
  },
  {
   "cell_type": "markdown",
   "metadata": {},
   "source": [
    "### Solving the control problem"
   ]
  },
  {
   "cell_type": "markdown",
   "metadata": {},
   "source": [
    "#### Adapting the parameters:"
   ]
  },
  {
   "cell_type": "code",
   "execution_count": 220,
   "metadata": {},
   "outputs": [],
   "source": [
    "# Unstable if not controlled\n",
    "#mu = -0.1\n",
    "#llambda = 1.0\n",
    "\n",
    "# Stable if not controlled\n",
    "mu = -0.05\n",
    "llambda = -1.0"
   ]
  },
  {
   "cell_type": "code",
   "execution_count": 221,
   "metadata": {},
   "outputs": [],
   "source": [
    "A = np.array([[mu, 0], [0, llambda]])\n",
    "B = np.array([[0], [1]])\n",
    "R = np.array([1])\n",
    "Q = np.eye(2)"
   ]
  },
  {
   "cell_type": "code",
   "execution_count": 222,
   "metadata": {},
   "outputs": [
    {
     "name": "stdout",
     "output_type": "stream",
     "text": [
      "Feedback matrix: [[0.         0.41421356]]\n"
     ]
    }
   ],
   "source": [
    "# System matrices\n",
    "(C, X, E) = lqr(A, B, Q, R)\n",
    "print(\"Feedback matrix: {}\".format(C))"
   ]
  },
  {
   "cell_type": "markdown",
   "metadata": {},
   "source": [
    "### Integrate the ODE"
   ]
  },
  {
   "cell_type": "code",
   "execution_count": 223,
   "metadata": {},
   "outputs": [],
   "source": [
    "def vdp1(t, y):\n",
    "    # Ay - B*X*y + Cy\n",
    "    x = A.dot(y)  - np.matmul(B,C).dot(y)\n",
    "    return x + np.array([0, -llambda*(y[0]**2)])\n",
    "\n",
    "t0, t1 = 0, 50                # start and end\n",
    "t = np.arange(t0,t1, 0.01)\n",
    "y0 = [-5, 5]                   # initial value\n",
    "y = np.zeros((len(t), len(y0)))   # array for solution\n",
    "y[0, :] = y0"
   ]
  },
  {
   "cell_type": "code",
   "execution_count": 224,
   "metadata": {},
   "outputs": [
    {
     "data": {
      "text/plain": [
       "<scipy.integrate._ode.ode at 0x7f9716e87da0>"
      ]
     },
     "execution_count": 224,
     "metadata": {},
     "output_type": "execute_result"
    }
   ],
   "source": [
    "r = integrate.ode(vdp1).set_integrator(\"dopri5\")  # choice of method\n",
    "r.set_initial_value(y0, t0)   # initial values"
   ]
  },
  {
   "cell_type": "code",
   "execution_count": 225,
   "metadata": {
    "scrolled": true
   },
   "outputs": [
    {
     "data": {
      "image/png": "[encoded data removed]",
      "text/plain": [
       "<Figure size 432x288 with 1 Axes>"
      ]
     },
     "metadata": {
      "needs_background": "light"
     },
     "output_type": "display_data"
    }
   ],
   "source": [
    "for i in range(1, t.size):\n",
    "   y[i, :] = r.integrate(t[i]) # get one more value, add it to the array\n",
    "   if not r.successful():\n",
    "       raise RuntimeError(\"Could not integrate\")\n",
    "plt.plot(t, y[:,0], label = \"x\")\n",
    "plt.plot(t, y[:,1], label = \"y\")\n",
    "plt.ylabel(\"t\")\n",
    "plt.legend()\n",
    "plt.show()"
   ]
  },
  {
   "cell_type": "code",
   "execution_count": 226,
   "metadata": {
    "scrolled": false
   },
   "outputs": [
    {
     "data": {
      "image/png": "[encoded data removed]",
      "text/plain": [
       "<Figure size 432x288 with 1 Axes>"
      ]
     },
     "metadata": {
      "needs_background": "light"
     },
     "output_type": "display_data"
    }
   ],
   "source": [
    "plt.plot(y[:, 0], y[:, 1], label = y0)\n",
    "plt.xlabel(\"x\")\n",
    "plt.ylabel(\"y\")\n",
    "plt.legend()\n",
    "plt.show()"
   ]
  },
  {
   "cell_type": "markdown",
   "metadata": {},
   "source": [
    "#### Cumulative sum of cost"
   ]
  },
  {
   "cell_type": "code",
   "execution_count": 227,
   "metadata": {},
   "outputs": [],
   "source": [
    "JLQR = np.cumsum( np.square(y[:, 0]) + np.square(y[:, 1]) + np.square(np.matmul(C, y.T)) ).T"
   ]
  },
  {
   "cell_type": "code",
   "execution_count": 228,
   "metadata": {
    "scrolled": true
   },
   "outputs": [
    {
     "data": {
      "image/png": "[encoded data removed]",
      "text/plain": [
       "<Figure size 432x288 with 1 Axes>"
      ]
     },
     "metadata": {
      "needs_background": "light"
     },
     "output_type": "display_data"
    }
   ],
   "source": [
    "plt.plot(t, JLQR, label = \"uncontrolled\")\n",
    "plt.xlabel(\"t\")\n",
    "plt.ylabel(\"JLQR\")\n",
    "plt.show()"
   ]
  },
  {
   "cell_type": "markdown",
   "metadata": {},
   "source": [
    "### Controlled versus uncontrolled"
   ]
  },
  {
   "cell_type": "markdown",
   "metadata": {},
   "source": [
    "Trajectories:"
   ]
  },
  {
   "cell_type": "code",
   "execution_count": 229,
   "metadata": {},
   "outputs": [
    {
     "data": {
      "image/png": "[encoded data removed]",
      "text/plain": [
       "<Figure size 432x288 with 1 Axes>"
      ]
     },
     "metadata": {
      "needs_background": "light"
     },
     "output_type": "display_data"
    }
   ],
   "source": [
    "plt.plot(y[:, 0], y[:, 1], label = \"controlled\")\n",
    "plt.plot(list_y[index][1:-1, 0], list_y[index][1:-1, 1], label = \"uncontrolled\")\n",
    "plt.xlabel(\"x\")\n",
    "plt.ylabel(\"y\")\n",
    "plt.legend()\n",
    "plt.show()"
   ]
  },
  {
   "cell_type": "markdown",
   "metadata": {},
   "source": [
    "Total cost:"
   ]
  },
  {
   "cell_type": "code",
   "execution_count": 230,
   "metadata": {},
   "outputs": [
    {
     "data": {
      "image/png": "[encoded data removed]",
      "text/plain": [
       "<Figure size 432x288 with 1 Axes>"
      ]
     },
     "metadata": {
      "needs_background": "light"
     },
     "output_type": "display_data"
    }
   ],
   "source": [
    "plt.plot(t, JLQR, label = \"controlled\")\n",
    "plt.plot(t, list_cost[3], label = \"uncontrolled\")\n",
    "plt.xlabel(\"t\")\n",
    "plt.ylabel(\"JLQR\")\n",
    "plt.legend()\n",
    "plt.show()"
   ]
  },
  {
   "cell_type": "markdown",
   "metadata": {},
   "source": [
    "## Manually"
   ]
  },
  {
   "cell_type": "code",
   "execution_count": 18,
   "metadata": {},
   "outputs": [],
   "source": [
    "import numpy as np\n",
    "#from control import lqr"
   ]
  },
  {
   "cell_type": "code",
   "execution_count": 19,
   "metadata": {},
   "outputs": [],
   "source": [
    "from __future__ import division, print_function\n",
    " \n",
    "import numpy as np\n",
    "import scipy.linalg\n",
    " \n",
    "def lqr(A,B,Q,R):\n",
    "    #Solve the continuous time lqr controller.\n",
    "    # \n",
    "    #dx/dt = A x + B u\n",
    "    #\n",
    "    #cost = integral x.T*Q*x + u.T*R*u\n",
    "    #\n",
    "    #ref Bertsekas, p.151\n",
    "\n",
    "    #first, try to solve the ricatti equation\n",
    "    X = np.matrix(scipy.linalg.solve_continuous_are(A, B, Q, R))\n",
    "\n",
    "    #compute the LQR gain\n",
    "    K = np.matrix(scipy.linalg.inv(R)*(B.T*X))\n",
    "\n",
    "    eigVals, eigVecs = scipy.linalg.eig(A-B*K)\n",
    "\n",
    "    return K, X, eigVals\n",
    " \n",
    "def dlqr(A,B,Q,R):\n",
    "    #Solve the discrete time lqr controller.\n",
    "    #\n",
    "    #x[k+1] = A x[k] + B u[k]\n",
    "    #\n",
    "    #cost = sum x[k].T*Q*x[k] + u[k].T*R*u[k]\n",
    "    #ref Bertsekas, p.151\n",
    "\n",
    "    #first, try to solve the ricatti equation\n",
    "    X = np.matrix(scipy.linalg.solve_discrete_are(A, B, Q, R)) \n",
    "    #compute the LQR gain\n",
    "    K = np.matrix(scipy.linalg.inv(B.T*X*B+R)*(B.T*X*A))\n",
    "    eigVals, eigVecs = scipy.linalg.eig(A-B*K)\n",
    " \n",
    "    return K, X, eigVals"
   ]
  },
  {
   "cell_type": "code",
   "execution_count": 20,
   "metadata": {},
   "outputs": [],
   "source": [
    "mu = -0.1\n",
    "llambda = 1.0\n",
    "σ = 1.0"
   ]
  },
  {
   "cell_type": "code",
   "execution_count": 21,
   "metadata": {},
   "outputs": [],
   "source": [
    "A = np.array([[mu, 0], [0, llambda]])\n",
    "B = np.array([[0], [1]])\n",
    "#B = np.array([[1], [0]])"
   ]
  },
  {
   "cell_type": "code",
   "execution_count": 22,
   "metadata": {},
   "outputs": [
    {
     "data": {
      "text/plain": [
       "array([[0],\n",
       "       [1]])"
      ]
     },
     "execution_count": 22,
     "metadata": {},
     "output_type": "execute_result"
    }
   ],
   "source": [
    "B"
   ]
  },
  {
   "cell_type": "code",
   "execution_count": 23,
   "metadata": {},
   "outputs": [],
   "source": [
    "R = np.array([1])\n",
    "Q = np.eye(2)"
   ]
  },
  {
   "cell_type": "code",
   "execution_count": 24,
   "metadata": {},
   "outputs": [
    {
     "data": {
      "text/plain": [
       "(matrix([[-3.66380674e-19,  6.18033989e-01]]),\n",
       " matrix([[1.01010101e+00, 9.59197057e-18],\n",
       "         [9.59197057e-18, 1.61803399e+00]]),\n",
       " array([ 0.38196601+0.j, -0.1       +0.j]))"
      ]
     },
     "execution_count": 24,
     "metadata": {},
     "output_type": "execute_result"
    }
   ],
   "source": [
    "# System matrices\n",
    "dlqr(A, B, Q, R)"
   ]
  }
 ],
 "metadata": {
  "kernelspec": {
   "display_name": "Python 3",
   "language": "python",
   "name": "python3"
  },
  "language_info": {
   "codemirror_mode": {
    "name": "ipython",
    "version": 3
   },
   "file_extension": ".py",
   "mimetype": "text/x-python",
   "name": "python",
   "nbconvert_exporter": "python",
   "pygments_lexer": "ipython3",
   "version": "3.5.2"
  }
 },
 "nbformat": 4,
 "nbformat_minor": 2
}
